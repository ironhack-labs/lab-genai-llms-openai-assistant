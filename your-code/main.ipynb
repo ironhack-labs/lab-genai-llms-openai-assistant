{
 "cells": [
  {
   "cell_type": "markdown",
   "metadata": {},
   "source": [
    "# LAB GenAI - LLMs - OpenAI Assistant"
   ]
  },
  {
   "cell_type": "markdown",
   "metadata": {},
   "source": [
    "## Exercise 1"
   ]
  },
  {
   "cell_type": "markdown",
   "metadata": {},
   "source": [
    "Create an assistant to answer a topic of your choosing:\n",
    " - Upload a file of your interest\n",
    " - Add Instructions to the prompt\n",
    " - Use the assistant in Playground mode\n",
    "\n",
    " https://platform.openai.com/playground/assistants"
   ]
  },
  {
   "cell_type": "code",
   "execution_count": 17,
   "metadata": {},
   "outputs": [
    {
     "name": "stdout",
     "output_type": "stream",
     "text": [
      "Collecting openai\n",
      "  Using cached openai-1.52.2-py3-none-any.whl.metadata (24 kB)\n",
      "Requirement already satisfied: anyio<5,>=3.5.0 in c:\\users\\dusan\\appdata\\local\\programs\\python\\python312\\lib\\site-packages (from openai) (4.6.2.post1)\n",
      "Requirement already satisfied: distro<2,>=1.7.0 in c:\\users\\dusan\\appdata\\local\\programs\\python\\python312\\lib\\site-packages (from openai) (1.9.0)\n",
      "Requirement already satisfied: httpx<1,>=0.23.0 in c:\\users\\dusan\\appdata\\local\\programs\\python\\python312\\lib\\site-packages (from openai) (0.27.2)\n",
      "Requirement already satisfied: jiter<1,>=0.4.0 in c:\\users\\dusan\\appdata\\local\\programs\\python\\python312\\lib\\site-packages (from openai) (0.6.1)\n",
      "Requirement already satisfied: pydantic<3,>=1.9.0 in c:\\users\\dusan\\appdata\\local\\programs\\python\\python312\\lib\\site-packages (from openai) (2.9.2)\n",
      "Requirement already satisfied: sniffio in c:\\users\\dusan\\appdata\\local\\programs\\python\\python312\\lib\\site-packages (from openai) (1.3.1)\n",
      "Requirement already satisfied: tqdm>4 in c:\\users\\dusan\\appdata\\local\\programs\\python\\python312\\lib\\site-packages (from openai) (4.66.5)\n",
      "Requirement already satisfied: typing-extensions<5,>=4.11 in c:\\users\\dusan\\appdata\\local\\programs\\python\\python312\\lib\\site-packages (from openai) (4.12.2)\n",
      "Requirement already satisfied: idna>=2.8 in c:\\users\\dusan\\appdata\\local\\programs\\python\\python312\\lib\\site-packages (from anyio<5,>=3.5.0->openai) (3.10)\n",
      "Requirement already satisfied: certifi in c:\\users\\dusan\\appdata\\local\\programs\\python\\python312\\lib\\site-packages (from httpx<1,>=0.23.0->openai) (2024.8.30)\n",
      "Requirement already satisfied: httpcore==1.* in c:\\users\\dusan\\appdata\\local\\programs\\python\\python312\\lib\\site-packages (from httpx<1,>=0.23.0->openai) (1.0.6)\n",
      "Requirement already satisfied: h11<0.15,>=0.13 in c:\\users\\dusan\\appdata\\local\\programs\\python\\python312\\lib\\site-packages (from httpcore==1.*->httpx<1,>=0.23.0->openai) (0.14.0)\n",
      "Requirement already satisfied: annotated-types>=0.6.0 in c:\\users\\dusan\\appdata\\local\\programs\\python\\python312\\lib\\site-packages (from pydantic<3,>=1.9.0->openai) (0.7.0)\n",
      "Requirement already satisfied: pydantic-core==2.23.4 in c:\\users\\dusan\\appdata\\local\\programs\\python\\python312\\lib\\site-packages (from pydantic<3,>=1.9.0->openai) (2.23.4)\n",
      "Requirement already satisfied: colorama in c:\\users\\dusan\\appdata\\roaming\\python\\python312\\site-packages (from tqdm>4->openai) (0.4.6)\n",
      "Using cached openai-1.52.2-py3-none-any.whl (386 kB)\n",
      "Installing collected packages: openai\n",
      "Successfully installed openai-1.52.2\n",
      "Note: you may need to restart the kernel to use updated packages.\n"
     ]
    }
   ],
   "source": [
    "pip install openai"
   ]
  },
  {
   "cell_type": "code",
   "execution_count": 16,
   "metadata": {},
   "outputs": [
    {
     "name": "stdout",
     "output_type": "stream",
     "text": [
      "Collecting pymupdfNote: you may need to restart the kernel to use updated packages.\n",
      "\n",
      "  Downloading PyMuPDF-1.24.12-cp39-abi3-win_amd64.whl.metadata (3.4 kB)\n",
      "Downloading PyMuPDF-1.24.12-cp39-abi3-win_amd64.whl (16.0 MB)\n",
      "   ---------------------------------------- 0.0/16.0 MB ? eta -:--:--\n",
      "   ----- ---------------------------------- 2.4/16.0 MB 13.4 MB/s eta 0:00:02\n",
      "   ------------- -------------------------- 5.2/16.0 MB 12.8 MB/s eta 0:00:01\n",
      "   ------------------- -------------------- 7.9/16.0 MB 12.8 MB/s eta 0:00:01\n",
      "   -------------------------- ------------- 10.5/16.0 MB 12.6 MB/s eta 0:00:01\n",
      "   -------------------------------- ------- 13.1/16.0 MB 12.7 MB/s eta 0:00:01\n",
      "   ---------------------------------------  15.7/16.0 MB 12.7 MB/s eta 0:00:01\n",
      "   ---------------------------------------- 16.0/16.0 MB 12.4 MB/s eta 0:00:00\n",
      "Installing collected packages: pymupdf\n",
      "Successfully installed pymupdf-1.24.12\n"
     ]
    }
   ],
   "source": [
    "pip install pymupdf"
   ]
  },
  {
   "cell_type": "code",
   "execution_count": 17,
   "metadata": {},
   "outputs": [],
   "source": [
    "import fitz  # PyMuPDF"
   ]
  },
  {
   "cell_type": "code",
   "execution_count": 26,
   "metadata": {},
   "outputs": [
    {
     "name": "stdout",
     "output_type": "stream",
     "text": [
      "[Assistant(id='asst_sQx5cMHMQni98b5bsRngiriI', created_at=1730210146, description=None, instructions='You are an assistant specialized in extracting sustainability reports from user-provided files. Your task is to analyze and summarize key information on a company’s environmental, social, and financial sustainability.\\n\\nBe precise, critical, and objective in your analysis, presenting the facts clearly and without embellishment. Your goal is to offer an unbiased, straightforward summary, reflecting the true state of the company’s sustainability efforts.', metadata={}, model='gpt-4o', name='Robert', object='assistant', tools=[FileSearchTool(type='file_search', file_search=FileSearch(max_num_results=None, ranking_options=FileSearchRankingOptions(score_threshold=0.0, ranker='default_2024_08_21')))], response_format=ResponseFormatText(type='text'), temperature=0.44, tool_resources=ToolResources(code_interpreter=None, file_search=ToolResourcesFileSearch(vector_store_ids=[])), top_p=0.66)]\n"
     ]
    }
   ],
   "source": [
    "from openai import OpenAI\n",
    "client = OpenAI(api_key=\"\")\n",
    "\n",
    "my_assistants = client.beta.assistants.list(\n",
    "    order=\"desc\",\n",
    "    limit=\"20\",\n",
    ")\n",
    "print(my_assistants.data)"
   ]
  },
  {
   "cell_type": "markdown",
   "metadata": {},
   "source": []
  },
  {
   "cell_type": "code",
   "execution_count": 34,
   "metadata": {},
   "outputs": [
    {
     "name": "stdout",
     "output_type": "stream",
     "text": [
      "completed\n",
      "FileCounts(cancelled=0, completed=1, failed=0, in_progress=0, total=1)\n",
      "The sustainability report of Generali Group highlights several key sustainability initiatives in the social, environmental, and financial aspects:\n",
      "\n",
      "1. **Environmental Sustainability:**\n",
      "   - Generali is committed to decarbonizing its operations by reducing scope 1, 2, and 3 greenhouse gas (GHG) emissions by at least 35% by 2025 compared to 2019 levels. They are also working towards achieving net-zero status by 2040 through carbon removal projects aligned with reliable protocols and scientific information.\n",
      "   - The company has made significant progress in reducing GHG emissions from its operations, with a 33.4% reduction in total emissions compared to the 2019 baseline.\n",
      "   - Generali has increased the share of electricity purchased from renewable sources to 87.1% by 2023, showing a commitment to transitioning to cleaner energy sources.\n",
      "   - Various initiatives have been implemented to promote sustainability, including the electrification of the company car fleet, space optimization projects, enhancing digitalization, and reducing paper consumption.\n",
      "\n",
      "2. **Social Sustainability:**\n",
      "   - Generali is actively involved in social initiatives through \"The Human Safety Net,\" a hub dedicated to unlocking the potential of people in vulnerable conditions. The company works with employees, agents, NGOs, and social enterprises to support families with young children and refugees through employment and entrepreneurship.\n",
      "   - The goal of The Human Safety Net is to impact one million lives by 2027 and create lasting transformations through deep partnerships and innovative social impact solutions.\n",
      "\n",
      "3. **Financial Sustainability:**\n",
      "   - Generali has demonstrated its commitment to sustainable finance through the issuance of green bonds and a sustainability bond, allocating the proceeds to environmental and sustainability targets.\n",
      "   - The company published the Green, Social & Sustainability Framework in 2023 to structure a more effective transition path towards EU Green Bond Standard designation.\n",
      "   - Generali integrated sustainability principles in alternative risk transfer mechanisms, such as catastrophe bonds, and published reports outlining the impact evaluation and allocation of capital in line with sustainability frameworks.\n",
      "\n",
      "Overall, Generali Group's sustainability efforts encompass a broad range of initiatives aimed at reducing environmental impact, supporting social causes, and promoting sustainable finance practices【4:0†source】【4:1†source】【4:3†source】.\n"
     ]
    }
   ],
   "source": [
    "import openai\n",
    "import fitz  # PyMuPDF\n",
    "\n",
    "# Initialize the OpenAI client with the API key\n",
    "client = openai.OpenAI(api_key=\"\")\n",
    "\n",
    "# Step 1: Create the assistant\n",
    "assistant = client.beta.assistants.create(\n",
    "    name=\"Sustainability Report Extractor\",\n",
    "    instructions=\"You are an assistant specialized in extracting sustainability reports from user-provided files. Your task is to analyze and summarize key information on a company’s environmental, social, and financial sustainability.\",\n",
    "    model=\"gpt-3.5-turbo\",\n",
    "    tools=[{\"type\": \"file_search\"}]\n",
    ")\n",
    "\n",
    "# Step 2: Create a vector store for document storage\n",
    "vector_store = client.beta.vector_stores.create(name=\"Sustainability Documents\")\n",
    "\n",
    "# Step 3: Prepare the PDF file for upload\n",
    "file_paths = [\"Group Annual Integrated Report 2023_Generali Group_final_interactive.pdf\"]\n",
    "file_streams = [open(path, \"rb\") for path in file_paths]\n",
    "\n",
    "# Step 4: Upload the file to the vector store and poll for completion\n",
    "file_batch = client.beta.vector_stores.file_batches.upload_and_poll(\n",
    "    vector_store_id=vector_store.id, files=file_streams\n",
    ")\n",
    "\n",
    "# Check the upload status\n",
    "print(file_batch.status)\n",
    "print(file_batch.file_counts)\n",
    "\n",
    "# Step 5: Link the vector store to the assistant\n",
    "assistant = client.beta.assistants.update(\n",
    "    assistant_id=assistant.id,\n",
    "    tool_resources={\"file_search\": {\"vector_store_ids\": [vector_store.id]}}\n",
    ")\n",
    "\n",
    "# Step 6: Start a conversation thread to interact with the assistant\n",
    "thread = client.beta.threads.create(\n",
    "    messages=[\n",
    "        {\n",
    "            \"role\": \"user\",\n",
    "            \"content\": \"Provide a summary of the company's sustainability report, covering social, environmental, and financial aspects. Filter for things that have actually been done by the company not what is planed future work\"\n",
    "        }\n",
    "    ]\n",
    ")\n",
    "\n",
    "# Run the assistant and get a response\n",
    "run = client.beta.threads.runs.create_and_poll(\n",
    "    thread_id=thread.id, assistant_id=assistant.id\n",
    ")\n",
    "\n",
    "# Retrieve and print messages from the thread\n",
    "messages = list(client.beta.threads.messages.list(thread_id=thread.id, run_id=run.id))\n",
    "message_content = messages[0].content[0].text\n",
    "print(message_content.value)\n",
    "\n",
    "# Close the file streams after upload\n",
    "for file in file_streams:\n",
    "    file.close()\n"
   ]
  },
  {
   "cell_type": "code",
   "execution_count": 31,
   "metadata": {},
   "outputs": [
    {
     "name": "stdout",
     "output_type": "stream",
     "text": [
      "Assistant ID: asst_9VgKVZXTVAudcTJ3k29wN9gE\n",
      "Thread ID: thread_DxpkCkk9t0H4FCsaKSuFf3pX\n"
     ]
    }
   ],
   "source": [
    "print(\"Assistant ID:\", assistant.id)\n",
    "print(\"Thread ID:\", thread.id)"
   ]
  },
  {
   "cell_type": "code",
   "execution_count": 32,
   "metadata": {},
   "outputs": [
    {
     "name": "stdout",
     "output_type": "stream",
     "text": [
      "Run status: failed\n",
      "Run details: Run(id='run_lZm0syUuQhX2rpOHa174xCiV', assistant_id='asst_9VgKVZXTVAudcTJ3k29wN9gE', cancelled_at=None, completed_at=None, created_at=1730212288, expires_at=None, failed_at=1730212296, incomplete_details=None, instructions='You are an assistant specialized in extracting sustainability reports from user-provided files. Your task is to analyze and summarize key information on a company’s environmental, social, and financial sustainability.', last_error=LastError(code='rate_limit_exceeded', message='Request too large for gpt-4o in organization org-O4bxBuW0QS1D7kcQVJlQhVMy on tokens per min (TPM): Limit 30000, Requested 33195. The input or output tokens must be reduced in order to run successfully. Visit https://platform.openai.com/account/rate-limits to learn more.'), max_completion_tokens=None, max_prompt_tokens=None, metadata={}, model='gpt-4o', object='thread.run', parallel_tool_calls=True, required_action=None, response_format='auto', started_at=1730212289, status='failed', thread_id='thread_DxpkCkk9t0H4FCsaKSuFf3pX', tool_choice='auto', tools=[FileSearchTool(type='file_search', file_search=FileSearch(max_num_results=None, ranking_options=FileSearchRankingOptions(score_threshold=0.0, ranker='default_2024_08_21')))], truncation_strategy=TruncationStrategy(type='auto', last_messages=None), usage=Usage(completion_tokens=30, prompt_tokens=871, total_tokens=901), temperature=1.0, top_p=1.0, tool_resources={})\n"
     ]
    }
   ],
   "source": [
    "print(\"Run status:\", run.status)\n",
    "print(\"Run details:\", run)\n"
   ]
  },
  {
   "cell_type": "code",
   "execution_count": 30,
   "metadata": {},
   "outputs": [
    {
     "name": "stdout",
     "output_type": "stream",
     "text": [
      "No messages returned from the assistant.\n"
     ]
    }
   ],
   "source": [
    "# Retrieve and print messages from the thread\n",
    "messages = list(client.beta.threads.messages.list(thread_id=thread.id, run_id=run.id))\n",
    "\n",
    "# Check if the messages list is not empty before accessing it\n",
    "if messages:\n",
    "    # Print the full message structure to understand its content if needed\n",
    "    print(\"Messages structure:\", messages)\n",
    "    \n",
    "    # Access the message content safely\n",
    "    message_content = messages[0].content[0].text if messages[0].content else \"No content returned\"\n",
    "    print(message_content)\n",
    "else:\n",
    "    print(\"No messages returned from the assistant.\")\n",
    "\n",
    "# Close the file streams after upload\n",
    "for file in file_streams:\n",
    "    file.close()\n"
   ]
  },
  {
   "cell_type": "markdown",
   "metadata": {},
   "source": [
    "## Exercise 2"
   ]
  },
  {
   "cell_type": "markdown",
   "metadata": {},
   "source": [
    "Talk to your assistant via the API\n",
    "\n",
    "https://platform.openai.com/docs/assistants/overview"
   ]
  },
  {
   "cell_type": "code",
   "execution_count": 41,
   "metadata": {},
   "outputs": [
    {
     "name": "stdout",
     "output_type": "stream",
     "text": [
      "Assistant's response: The sustainability report of Generali Group highlights the following key points:\n",
      "\n",
      "1. **Decarbonization Commitment**:\n",
      "   - The Group aims to reduce scope 1, 2, and 3 GHG emissions related to its operations by at least 35% by 2025 compared to 2019 levels. The long-term goal is to achieve net-zero status by 2040 through carbon removal projects aligned with reliable protocols and scientific information【4:0†source】.\n",
      "\n",
      "2. **Renewable Energy**:\n",
      "   - Generali is committed to converting all its electricity supply contracts to certified renewable energy. In 2023, 87.1% of total purchased electricity was from renewable sources, showing a 5.0 percentage point increase from the baseline【4:0†source】.\n",
      "\n",
      "3. **Human Safety Net**:\n",
      "   - The Group's activities aim to unlock the potential of people living in vulnerable conditions through The Human Safety Net, promoting early childhood development and refugee integration. The goal is to impact one million lives by 2027【4:2†source】.\n",
      "\n",
      "4. **Financial Performance**:\n",
      "   - The report outlines financial metrics such as proposed total dividend, life net inflows, new business value, operating results in different business segments, carbon footprint of the investment portfolio, premiums from ESG insurance solutions, and new green and sustainable investments【4:2†source】【4:2†source】.\n",
      "\n",
      "5. **Employee and Social Impact**:\n",
      "   - Generali focuses on employee engagement, upskilling, women in strategic positions, and reducing its carbon footprint linked to direct general account investment portfolio. It also emphasizes its role as a responsible employer and citizen through various initiatives【4:2†source】【4:2†source】.\n",
      "\n",
      "These points illustrate Generali Group's efforts towards environmental sustainability, renewable energy adoption, social impact through The Human Safety Net, financial performance, and employee engagement in line with sustainability goals.\n"
     ]
    }
   ],
   "source": [
    "import openai\n",
    "\n",
    "# Initialize your OpenAI client with API key\n",
    "client = openai.OpenAI(api_key=\" \")  # Replace with your actual API key\n",
    "\n",
    "# Step 1: Start a conversation thread\n",
    "thread = client.beta.threads.create(\n",
    "    messages=[{\"role\": \"user\", \"content\": \"Hi there! Can you provide a summary of the sustainability report?\"}]\n",
    ")\n",
    "\n",
    "# Step 2: Run the thread with the assistant\n",
    "run = client.beta.threads.runs.create_and_poll(\n",
    "    thread_id=thread.id,\n",
    "    assistant_id=\"asst_9VgKVZXTVAudcTJ3k29wN9gE\"  # Replace with your assistant's ID\n",
    ")\n",
    "\n",
    "# Step 3: Retrieve messages from the assistant's response\n",
    "messages = list(client.beta.threads.messages.list(thread_id=thread.id, run_id=run.id))\n",
    "\n",
    "# Step 4: Print the assistant’s response\n",
    "# Print only the text content from the assistant's response\n",
    "if messages:\n",
    "    # Access the message's text content directly\n",
    "    message_content = messages[0].content[0].text\n",
    "    print(\"Assistant's response:\", message_content.value)\n",
    "else:\n",
    "    print(\"No response from the assistant.\")\n",
    "\n",
    "\n"
   ]
  },
  {
   "cell_type": "markdown",
   "metadata": {},
   "source": [
    "## Exercise 3"
   ]
  },
  {
   "cell_type": "markdown",
   "metadata": {},
   "source": [
    "Create an assistant that will call a weather API, given the user's answer and return the proper answer.\n",
    "\n",
    "See the documentation of the weather API here: https://open-meteo.com/en/docs"
   ]
  },
  {
   "cell_type": "code",
   "execution_count": 43,
   "metadata": {},
   "outputs": [
    {
     "name": "stdout",
     "output_type": "stream",
     "text": [
      "Requirement already satisfied: requests in c:\\users\\dusan\\appdata\\local\\programs\\python\\python312\\lib\\site-packages (2.32.3)\n",
      "Requirement already satisfied: charset-normalizer<4,>=2 in c:\\users\\dusan\\appdata\\local\\programs\\python\\python312\\lib\\site-packages (from requests) (3.3.2)\n",
      "Requirement already satisfied: idna<4,>=2.5 in c:\\users\\dusan\\appdata\\local\\programs\\python\\python312\\lib\\site-packages (from requests) (3.10)\n",
      "Requirement already satisfied: urllib3<3,>=1.21.1 in c:\\users\\dusan\\appdata\\local\\programs\\python\\python312\\lib\\site-packages (from requests) (2.2.3)\n",
      "Requirement already satisfied: certifi>=2017.4.17 in c:\\users\\dusan\\appdata\\local\\programs\\python\\python312\\lib\\site-packages (from requests) (2024.8.30)\n",
      "Note: you may need to restart the kernel to use updated packages.\n"
     ]
    }
   ],
   "source": [
    "pip install requests\n"
   ]
  },
  {
   "cell_type": "code",
   "execution_count": 46,
   "metadata": {},
   "outputs": [
    {
     "name": "stdout",
     "output_type": "stream",
     "text": [
      "Assistant's response: The current temperature is 14.8°C with 6.5 km/h winds.\n"
     ]
    }
   ],
   "source": [
    "import requests\n",
    "import openai\n",
    "\n",
    "# Define the function to fetch weather data\n",
    "def get_weather_forecast(latitude, longitude):\n",
    "    url = \"https://api.open-meteo.com/v1/forecast\"\n",
    "    params = {\n",
    "        \"latitude\": latitude,\n",
    "        \"longitude\": longitude,\n",
    "        \"current_weather\": \"true\",\n",
    "    }\n",
    "    response = requests.get(url, params=params)\n",
    "    if response.status_code == 200:\n",
    "        data = response.json()\n",
    "        return data[\"current_weather\"]\n",
    "    else:\n",
    "        return {\"error\": \"Unable to fetch weather data\"}\n",
    "\n",
    "# Initialize the OpenAI client\n",
    "client = openai.OpenAI(api_key=\" \")  # Replace with your actual API key\n",
    "\n",
    "# Create a thread to simulate a conversation\n",
    "thread = client.beta.threads.create(\n",
    "    messages=[{\"role\": \"user\", \"content\": \"What's the current weather in Berlin?\"}]\n",
    ")\n",
    "\n",
    "# Manually call the weather function based on user input\n",
    "location = {\"latitude\": 52.52, \"longitude\": 13.41}  # Example for Berlin\n",
    "weather_data = get_weather_forecast(location[\"latitude\"], location[\"longitude\"])\n",
    "\n",
    "# Format the weather data as a response\n",
    "if \"error\" not in weather_data:\n",
    "    weather_response = (\n",
    "        f\"The current temperature is {weather_data['temperature']}°C with \"\n",
    "        f\"{weather_data['windspeed']} km/h winds.\"\n",
    "    )\n",
    "else:\n",
    "    weather_response = \"Sorry, I couldn't fetch the weather data at the moment.\"\n",
    "\n",
    "# Print the response\n",
    "print(\"Assistant's response:\", weather_response)"
   ]
  },
  {
   "cell_type": "markdown",
   "metadata": {},
   "source": [
    "### If you want to, there is a hint here:"
   ]
  },
  {
   "cell_type": "markdown",
   "metadata": {},
   "source": [
    "OpenAI Chatbots / Assistants have a way to respond in json format. \n",
    "\n",
    "Explore the function calling functionality"
   ]
  }
 ],
 "metadata": {
  "kernelspec": {
   "display_name": "Python 3",
   "language": "python",
   "name": "python3"
  },
  "language_info": {
   "codemirror_mode": {
    "name": "ipython",
    "version": 3
   },
   "file_extension": ".py",
   "mimetype": "text/x-python",
   "name": "python",
   "nbconvert_exporter": "python",
   "pygments_lexer": "ipython3",
   "version": "3.12.6"
  }
 },
 "nbformat": 4,
 "nbformat_minor": 2
}
