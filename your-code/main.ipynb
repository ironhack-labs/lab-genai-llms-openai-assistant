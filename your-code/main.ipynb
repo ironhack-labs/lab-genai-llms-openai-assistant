{
 "cells": [
  {
   "cell_type": "markdown",
   "metadata": {},
   "source": [
    "# LAB GenAI - LLMs - OpenAI Assistant"
   ]
  },
  {
   "cell_type": "markdown",
   "metadata": {},
   "source": [
    "## Exercise 1"
   ]
  },
  {
   "cell_type": "markdown",
   "metadata": {},
   "source": [
    "Create an assistant to answer a topic of your choosing:\n",
    " - Upload a file of your interest\n",
    " - Add Instructions to the prompt\n",
    " - Use the assistant in Playground mode\n",
    "\n",
    " https://platform.openai.com/playground/assistants"
   ]
  },
  {
   "cell_type": "code",
   "execution_count": 21,
   "metadata": {},
   "outputs": [],
   "source": [
    "import openai\n",
    "import pandas as pd\n",
    "\n",
    "#OpenAI API key\n",
    "api_key = 'sk-KuqOZZy_EbVm4qVg-Eh1ij4rTpGgR-DXMw1vT8N04rT3BlbkFJrsEyLcAkrPxORfSxyNwPz7LzK01eHka_a7TvW0SbQA'\n",
    "\n",
    "\n",
    "\n",
    "\n"
   ]
  },
  {
   "cell_type": "code",
   "execution_count": 22,
   "metadata": {},
   "outputs": [],
   "source": [
    "## Create the assistant\n",
    "from openai import OpenAI\n",
    " \n",
    "client = OpenAI(api_key=api_key)\n",
    " \n",
    "assistant = client.beta.assistants.create(\n",
    "  name=\"ChatGPT prompt expert\",\n",
    "  instructions=\"You are an expert in ChatGPT prompts for different sectors\",\n",
    "  model=\"gpt-4o-mini\",\n",
    "  tools=[{\"type\": \"file_search\"}],\n",
    ")"
   ]
  },
  {
   "cell_type": "code",
   "execution_count": 23,
   "metadata": {},
   "outputs": [],
   "source": [
    "# Create a vector store caled \"Datavisualization Documents\"\n",
    "vector_store = client.beta.vector_stores.create(name=\"Prompt Documents\")"
   ]
  },
  {
   "cell_type": "code",
   "execution_count": 24,
   "metadata": {},
   "outputs": [],
   "source": [
    " # Ready the files for upload to OpenAI\n",
    "file_paths = [\"chatgpt_prompts.pdf\"]\n",
    "file_streams = [open(path, \"rb\") for path in file_paths]"
   ]
  },
  {
   "cell_type": "code",
   "execution_count": 25,
   "metadata": {},
   "outputs": [
    {
     "name": "stdout",
     "output_type": "stream",
     "text": [
      "completed\n",
      "FileCounts(cancelled=0, completed=1, failed=0, in_progress=0, total=1)\n"
     ]
    }
   ],
   "source": [
    "# Use the upload and poll SDK helper to upload the files, add them to the vector store,\n",
    "# and poll the status of the file batch for completion.\n",
    "file_batch = client.beta.vector_stores.file_batches.upload_and_poll(\n",
    "  vector_store_id=vector_store.id, files=file_streams\n",
    ")\n",
    " \n",
    "# You can print the status and the file counts of the batch to see the result of this operation.\n",
    "print(file_batch.status)\n",
    "print(file_batch.file_counts)"
   ]
  },
  {
   "cell_type": "code",
   "execution_count": 26,
   "metadata": {},
   "outputs": [],
   "source": [
    "assistant = client.beta.assistants.update(\n",
    "  assistant_id=assistant.id,\n",
    "  tool_resources={\"file_search\": {\"vector_store_ids\": [vector_store.id]}},\n",
    ")"
   ]
  },
  {
   "cell_type": "code",
   "execution_count": 27,
   "metadata": {},
   "outputs": [
    {
     "name": "stdout",
     "output_type": "stream",
     "text": [
      "Text(annotations=[], value='Here are some prompts tailored for the Aircraft Manufacturing sector:\\n\\n1. **Design and Development**:\\n   - \"Describe the steps involved in the aircraft design process, from conceptual design to final production. What are the key challenges faced at each stage?\"\\n   - \"How do innovations in materials science impact aircraft manufacturing, particularly in terms of weight reduction and fuel efficiency?\"\\n\\n2. **Regulatory and Compliance**:\\n   - \"What are the major regulatory challenges aircraft manufacturers face in different regions? How can companies ensure compliance while maintaining efficiency?\"\\n   - \"Explain the importance of safety certifications in aircraft manufacturing and the processes involved in obtaining them.\"\\n\\n3. **Production and Operations**:\\n   - \"Discuss the role of lean manufacturing principles in aircraft production. How can manufacturers minimize waste while ensuring high-quality output?\"\\n   - \"What are the latest trends in automation and robotics in aircraft manufacturing, and how do they improve production efficiency?\"\\n\\n4. **Supply Chain Management**:\\n   - \"Analyze the impact of global supply chain disruptions on aircraft manufacturing. What strategies can be implemented to mitigate these risks?\"\\n   - \"How does collaboration with suppliers enhance the overall efficiency and innovation in the aircraft manufacturing process?\"\\n\\n5. **Sustainability and Innovation**:\\n   - \"Evaluate the steps being taken by aircraft manufacturers to reduce carbon emissions and promote environmental sustainability within the industry.\"\\n   - \"What role do electric and hybrid propulsion systems play in the future of aircraft manufacturing?\"\\n\\n6. **Market Trends and Competition**:\\n   - \"Identify the key market trends shaping the aircraft manufacturing industry today. How should companies adapt their strategies to stay competitive?\"\\n   - \"Discuss the competitive landscape of the aircraft manufacturing sector and the impact of new entrants on established players.\"\\n\\n7. **Customer Insights and Market Needs**:\\n   - \"What factors do airlines consider when purchasing new aircraft? How can manufacturers align their offerings with these customer needs?\"\\n   - \"Explore the significance of customer feedback in the iterative design process of new aircraft models.\"\\n\\nFeel free to modify these prompts to better fit your specific needs or focus areas!')\n"
     ]
    }
   ],
   "source": [
    "# Create a thread and attach the file to the message\n",
    "thread = client.beta.threads.create(\n",
    "    messages=[\n",
    "        {\n",
    "            \"role\": \"user\",\n",
    "            \"content\": \"give me prompts for Aircraft Manufacturing\",\n",
    "        }\n",
    "    ]\n",
    ")\n",
    "\n",
    "# Run the thread and poll for the response\n",
    "run = client.beta.threads.runs.create_and_poll(\n",
    "    thread_id=thread.id, assistant_id=assistant.id\n",
    ")\n",
    "\n",
    "# Retrieve messages from the thread\n",
    "messages = list(client.beta.threads.messages.list(thread_id=thread.id, run_id=run.id))\n",
    "\n",
    "# Check if there are any messages in the response\n",
    "if messages and messages[0].content:\n",
    "    # Extract the text content of the first message\n",
    "    message_content = messages[0].content[0].text\n",
    "    print(message_content)\n",
    "else:\n",
    "    print(\"No content found in the messages error message.\")\n"
   ]
  },
  {
   "cell_type": "markdown",
   "metadata": {},
   "source": [
    "## Exercise 2"
   ]
  },
  {
   "cell_type": "markdown",
   "metadata": {},
   "source": [
    "Talk to your assistant via the API\n",
    "\n",
    "https://platform.openai.com/docs/assistants/overview"
   ]
  },
  {
   "cell_type": "code",
   "execution_count": null,
   "metadata": {},
   "outputs": [],
   "source": []
  },
  {
   "cell_type": "markdown",
   "metadata": {},
   "source": [
    "## Exercise 3"
   ]
  },
  {
   "cell_type": "markdown",
   "metadata": {},
   "source": [
    "Create an assistant that will call a weather API, given the user's answer and return the proper answer.\n",
    "\n",
    "See the documentation of the weather API here: https://open-meteo.com/en/docs"
   ]
  },
  {
   "cell_type": "code",
   "execution_count": null,
   "metadata": {},
   "outputs": [],
   "source": [
    "import requests\n",
    "\n",
    "def get_weather_forecast(latitude, longitude):\n",
    "    base_url = \"https://api.open-meteo.com/v1/forecast\"\n",
    "    params = {\n",
    "        \"latitude\": latitude,\n",
    "        \"longitude\": longitude,\n",
    "        \"hourly\": \"temperature_2m\"\n",
    "    }\n",
    "    response = requests.get(base_url, params=params)\n",
    "    return response.json()\n",
    "\n",
    "# Example usage:\n",
    "forecast = get_weather_forecast(52.52, 13.41)\n",
    "print(forecast)"
   ]
  },
  {
   "cell_type": "code",
   "execution_count": null,
   "metadata": {},
   "outputs": [],
   "source": []
  },
  {
   "cell_type": "markdown",
   "metadata": {},
   "source": [
    "### If you want to, there is a hint here:"
   ]
  },
  {
   "cell_type": "markdown",
   "metadata": {},
   "source": [
    "OpenAI Chatbots / Assistants have a way to respond in json format. \n",
    "\n",
    "Explore the function calling functionality"
   ]
  }
 ],
 "metadata": {
  "kernelspec": {
   "display_name": "Python 3",
   "language": "python",
   "name": "python3"
  },
  "language_info": {
   "codemirror_mode": {
    "name": "ipython",
    "version": 3
   },
   "file_extension": ".py",
   "mimetype": "text/x-python",
   "name": "python",
   "nbconvert_exporter": "python",
   "pygments_lexer": "ipython3",
   "version": "3.11.2"
  }
 },
 "nbformat": 4,
 "nbformat_minor": 2
}
