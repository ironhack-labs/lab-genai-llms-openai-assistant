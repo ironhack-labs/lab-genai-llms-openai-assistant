{
 "cells": [
  {
   "cell_type": "markdown",
   "metadata": {},
   "source": [
    "# LAB GenAI - LLMs - OpenAI Assistant"
   ]
  },
  {
   "cell_type": "markdown",
   "metadata": {},
   "source": [
    "## Exercise 1"
   ]
  },
  {
   "cell_type": "markdown",
   "metadata": {},
   "source": [
    "Create an assistant to answer a topic of your choosing:\n",
    " - Upload a file of your interest\n",
    " - Add Instructions to the prompt\n",
    " - Use the assistant in Playground mode\n",
    "\n",
    " https://platform.openai.com/playground/assistants"
   ]
  },
  {
   "cell_type": "code",
   "execution_count": 3,
   "metadata": {},
   "outputs": [],
   "source": [
    "import openai\n",
    "from openai import OpenAI\n",
    "import pandas as pd\n",
    "\n",
    "# Set up your OpenAI API key\n",
    "api_key = \"\"\n",
    "\n",
    "client = OpenAI(api_key=api_key)"
   ]
  },
  {
   "cell_type": "code",
   "execution_count": 4,
   "metadata": {},
   "outputs": [],
   "source": [
    "## Create the assistant\n",
    "assistant = client.beta.assistants.create(\n",
    "    name=\"OpenAI Assistant\",\n",
    "    instructions=\"You are an expert in designing curriculum vitae. Please provide detailed, professional, and clear instructions on creating an impressive CV\",\n",
    "    model=\"gpt-4o-mini\")"
   ]
  },
  {
   "cell_type": "code",
   "execution_count": 5,
   "metadata": {},
   "outputs": [],
   "source": [
    "# Create a vector store called \"CV Documents\"\n",
    "vector_store = client.beta.vector_stores.create(name=\"CV Documents\")"
   ]
  },
  {
   "cell_type": "code",
   "execution_count": 10,
   "metadata": {},
   "outputs": [],
   "source": [
    "# Ready the files for upload to OpenAI\n",
    "file_paths = [\"../CV-Guide.pdf\"]\n",
    "file_streams = [open(path, \"rb\") for path in file_paths]"
   ]
  },
  {
   "cell_type": "code",
   "execution_count": 8,
   "metadata": {},
   "outputs": [
    {
     "name": "stdout",
     "output_type": "stream",
     "text": [
      "completed\n",
      "FileCounts(cancelled=0, completed=1, failed=0, in_progress=0, total=1)\n"
     ]
    }
   ],
   "source": [
    "# Use the upload and poll SDK helper to upload the files, add them to the vector store,\n",
    "# and poll the status of the file batch for completion.\n",
    "file_batch = client.beta.vector_stores.file_batches.upload_and_poll(\n",
    "  vector_store_id=vector_store.id, files=file_streams\n",
    ")\n",
    " \n",
    "# You can print the status and the file counts of the batch to see the result of this operation.\n",
    "print(file_batch.status)\n",
    "print(file_batch.file_counts)"
   ]
  },
  {
   "cell_type": "code",
   "execution_count": 9,
   "metadata": {},
   "outputs": [],
   "source": [
    "assistant = client.beta.assistants.update(\n",
    "  assistant_id=assistant.id,\n",
    "  tool_resources={\"file_search\": {\"vector_store_ids\": [vector_store.id]}},\n",
    ")"
   ]
  },
  {
   "cell_type": "markdown",
   "metadata": {},
   "source": [
    "## Exercise 2"
   ]
  },
  {
   "cell_type": "markdown",
   "metadata": {},
   "source": [
    "Talk to your assistant via the API\n",
    "\n",
    "https://platform.openai.com/docs/assistants/overview"
   ]
  },
  {
   "cell_type": "code",
   "execution_count": 11,
   "metadata": {},
   "outputs": [
    {
     "name": "stdout",
     "output_type": "stream",
     "text": [
      "Certainly! Here’s a sample CV introduction for a junior data scientist position:\n",
      "\n",
      "---\n",
      "\n",
      "**Introduction**\n",
      "\n",
      "Enthusiastic and analytical junior data scientist with a strong foundation in statistical analysis, machine learning, and data visualization. Holding a degree in [Your Degree] from [Your University], I have developed a solid understanding of data-driven decision-making through academic projects and internships. Proficient in programming languages such as Python and R, and experienced with tools like SQL and Tableau, I possess a passion for converting complex data into actionable insights. Eager to contribute to a dynamic team where I can further develop my skills and help drive business growth through data analytics.\n",
      "\n",
      "---\n",
      "\n",
      "Feel free to customize the introduction with your specific degree, university, and any relevant experiences or skills!\n"
     ]
    }
   ],
   "source": [
    "# Create a thread and attach the file to the message\n",
    "thread = client.beta.threads.create(\n",
    "  messages=[\n",
    "    {\n",
    "      \"role\": \"user\",\n",
    "      \"content\": \"Write a CV introduction for a junior data scientist position\",\n",
    "    }\n",
    "  ]\n",
    ")\n",
    "\n",
    "run = client.beta.threads.runs.create_and_poll(\n",
    "    thread_id=thread.id, assistant_id=assistant.id\n",
    ")\n",
    "\n",
    "messages = list(client.beta.threads.messages.list(thread_id=thread.id, run_id=run.id))\n",
    "\n",
    "message_content = messages[0].content[0].text\n",
    "print(message_content.value)"
   ]
  },
  {
   "cell_type": "markdown",
   "metadata": {},
   "source": [
    "## Exercise 3"
   ]
  },
  {
   "cell_type": "markdown",
   "metadata": {},
   "source": [
    "Create an assistant that will call a weather API, given the user's answer and return the proper answer.\n",
    "\n",
    "See the documentation of the weather API here: https://open-meteo.com/en/docs"
   ]
  },
  {
   "cell_type": "code",
   "execution_count": 12,
   "metadata": {},
   "outputs": [
    {
     "name": "stdout",
     "output_type": "stream",
     "text": [
      "{'latitude': 52.52, 'longitude': 13.419998, 'generationtime_ms': 0.03802776336669922, 'utc_offset_seconds': 0, 'timezone': 'GMT', 'timezone_abbreviation': 'GMT', 'elevation': 38.0, 'hourly_units': {'time': 'iso8601', 'temperature_2m': '°C'}, 'hourly': {'time': ['2024-10-29T00:00', '2024-10-29T01:00', '2024-10-29T02:00', '2024-10-29T03:00', '2024-10-29T04:00', '2024-10-29T05:00', '2024-10-29T06:00', '2024-10-29T07:00', '2024-10-29T08:00', '2024-10-29T09:00', '2024-10-29T10:00', '2024-10-29T11:00', '2024-10-29T12:00', '2024-10-29T13:00', '2024-10-29T14:00', '2024-10-29T15:00', '2024-10-29T16:00', '2024-10-29T17:00', '2024-10-29T18:00', '2024-10-29T19:00', '2024-10-29T20:00', '2024-10-29T21:00', '2024-10-29T22:00', '2024-10-29T23:00', '2024-10-30T00:00', '2024-10-30T01:00', '2024-10-30T02:00', '2024-10-30T03:00', '2024-10-30T04:00', '2024-10-30T05:00', '2024-10-30T06:00', '2024-10-30T07:00', '2024-10-30T08:00', '2024-10-30T09:00', '2024-10-30T10:00', '2024-10-30T11:00', '2024-10-30T12:00', '2024-10-30T13:00', '2024-10-30T14:00', '2024-10-30T15:00', '2024-10-30T16:00', '2024-10-30T17:00', '2024-10-30T18:00', '2024-10-30T19:00', '2024-10-30T20:00', '2024-10-30T21:00', '2024-10-30T22:00', '2024-10-30T23:00', '2024-10-31T00:00', '2024-10-31T01:00', '2024-10-31T02:00', '2024-10-31T03:00', '2024-10-31T04:00', '2024-10-31T05:00', '2024-10-31T06:00', '2024-10-31T07:00', '2024-10-31T08:00', '2024-10-31T09:00', '2024-10-31T10:00', '2024-10-31T11:00', '2024-10-31T12:00', '2024-10-31T13:00', '2024-10-31T14:00', '2024-10-31T15:00', '2024-10-31T16:00', '2024-10-31T17:00', '2024-10-31T18:00', '2024-10-31T19:00', '2024-10-31T20:00', '2024-10-31T21:00', '2024-10-31T22:00', '2024-10-31T23:00', '2024-11-01T00:00', '2024-11-01T01:00', '2024-11-01T02:00', '2024-11-01T03:00', '2024-11-01T04:00', '2024-11-01T05:00', '2024-11-01T06:00', '2024-11-01T07:00', '2024-11-01T08:00', '2024-11-01T09:00', '2024-11-01T10:00', '2024-11-01T11:00', '2024-11-01T12:00', '2024-11-01T13:00', '2024-11-01T14:00', '2024-11-01T15:00', '2024-11-01T16:00', '2024-11-01T17:00', '2024-11-01T18:00', '2024-11-01T19:00', '2024-11-01T20:00', '2024-11-01T21:00', '2024-11-01T22:00', '2024-11-01T23:00', '2024-11-02T00:00', '2024-11-02T01:00', '2024-11-02T02:00', '2024-11-02T03:00', '2024-11-02T04:00', '2024-11-02T05:00', '2024-11-02T06:00', '2024-11-02T07:00', '2024-11-02T08:00', '2024-11-02T09:00', '2024-11-02T10:00', '2024-11-02T11:00', '2024-11-02T12:00', '2024-11-02T13:00', '2024-11-02T14:00', '2024-11-02T15:00', '2024-11-02T16:00', '2024-11-02T17:00', '2024-11-02T18:00', '2024-11-02T19:00', '2024-11-02T20:00', '2024-11-02T21:00', '2024-11-02T22:00', '2024-11-02T23:00', '2024-11-03T00:00', '2024-11-03T01:00', '2024-11-03T02:00', '2024-11-03T03:00', '2024-11-03T04:00', '2024-11-03T05:00', '2024-11-03T06:00', '2024-11-03T07:00', '2024-11-03T08:00', '2024-11-03T09:00', '2024-11-03T10:00', '2024-11-03T11:00', '2024-11-03T12:00', '2024-11-03T13:00', '2024-11-03T14:00', '2024-11-03T15:00', '2024-11-03T16:00', '2024-11-03T17:00', '2024-11-03T18:00', '2024-11-03T19:00', '2024-11-03T20:00', '2024-11-03T21:00', '2024-11-03T22:00', '2024-11-03T23:00', '2024-11-04T00:00', '2024-11-04T01:00', '2024-11-04T02:00', '2024-11-04T03:00', '2024-11-04T04:00', '2024-11-04T05:00', '2024-11-04T06:00', '2024-11-04T07:00', '2024-11-04T08:00', '2024-11-04T09:00', '2024-11-04T10:00', '2024-11-04T11:00', '2024-11-04T12:00', '2024-11-04T13:00', '2024-11-04T14:00', '2024-11-04T15:00', '2024-11-04T16:00', '2024-11-04T17:00', '2024-11-04T18:00', '2024-11-04T19:00', '2024-11-04T20:00', '2024-11-04T21:00', '2024-11-04T22:00', '2024-11-04T23:00'], 'temperature_2m': [12.9, 12.7, 12.6, 12.4, 12.3, 12.2, 12.0, 12.1, 12.2, 12.5, 12.9, 13.8, 14.4, 15.0, 15.1, 14.6, 14.1, 13.9, 13.7, 13.6, 13.5, 13.2, 13.0, 12.6, 12.4, 12.4, 12.4, 12.4, 12.3, 12.2, 12.3, 12.4, 12.9, 13.4, 13.6, 14.2, 14.8, 14.9, 14.8, 14.3, 13.8, 13.2, 13.0, 12.7, 12.6, 12.2, 11.1, 9.8, 8.9, 8.3, 7.8, 7.3, 6.9, 6.5, 6.2, 6.5, 8.0, 9.6, 11.2, 12.7, 13.8, 13.1, 13.1, 12.7, 12.0, 11.7, 11.6, 11.4, 11.3, 11.1, 10.8, 10.7, 10.5, 10.4, 10.4, 10.4, 10.4, 10.5, 10.5, 10.7, 10.9, 11.2, 11.7, 12.2, 12.4, 12.6, 12.5, 12.3, 12.1, 11.9, 11.8, 11.7, 11.6, 11.5, 11.4, 11.4, 11.3, 11.2, 11.1, 11.0, 10.9, 10.8, 10.9, 11.2, 11.7, 12.1, 12.6, 13.0, 13.4, 13.5, 13.5, 13.4, 13.2, 12.9, 12.6, 12.4, 12.2, 12.0, 11.8, 11.5, 11.1, 10.8, 10.4, 10.0, 9.5, 8.9, 8.7, 9.1, 9.9, 10.7, 11.7, 12.8, 13.6, 9.6, 9.7, 9.6, 9.3, 8.8, 8.4, 8.0, 7.6, 7.4, 7.6, 8.1, 8.5, 8.7, 8.9, 9.0, 9.1, 9.0, 9.2, 9.6, 10.1, 10.6, 11.1, 11.6, 11.9, 12.0, 12.0, 11.9, 11.7, 11.3, 10.9, 10.4, 9.9, 9.4, 8.7, 8.0]}}\n"
     ]
    }
   ],
   "source": [
    "import requests\n",
    "\n",
    "def get_weather_forecast(latitude, longitude):\n",
    "    base_url = \"https://api.open-meteo.com/v1/forecast\"\n",
    "    params = {\n",
    "        \"latitude\": latitude,\n",
    "        \"longitude\": longitude,\n",
    "        \"hourly\": \"temperature_2m\"\n",
    "    }\n",
    "    response = requests.get(base_url, params=params)\n",
    "    return response.json()\n",
    "\n",
    "# Example usage:\n",
    "forecast = get_weather_forecast(52.52, 13.41)\n",
    "print(forecast)"
   ]
  },
  {
   "cell_type": "code",
   "execution_count": 13,
   "metadata": {},
   "outputs": [],
   "source": [
    "user_input = input('Enter the city in which you want to know the weather')"
   ]
  },
  {
   "cell_type": "code",
   "execution_count": 14,
   "metadata": {},
   "outputs": [],
   "source": [
    "prompt_weather= f\"\"\"\n",
    "    #Question: What is the weather in {user_input}\n",
    "    #Role\n",
    "    You are a helpful assistant for users asking about the weather.\n",
    "\n",
    "    #Context\n",
    "    You are using an API (open-meteo), which expects the longitude and latitude, in order to return the weather.\n",
    "    \n",
    "    #Chain of thought\n",
    "    Here are the steps you need to follow to complete this task:\n",
    "\n",
    "        1. 'First, you need to retrieve the longitud of the city in {user_input}'\n",
    "        2. 'Next, return the information in json.object format'\n",
    "\n",
    "    #Example:\n",
    "    This is an example. \n",
    "        -Question: 'What is the weather in Madrid?. \n",
    "        -Asnwer: 'city': 'Madrid', 'coordinates': 'latitude': 40.4168, 'longitude': -3.7038' in json format\n",
    "\n",
    "    What are the subsequent steps they need to take to submit their application?\"\n",
    "\n",
    "    User Request: Weather in {user_input}\n",
    "    \"\"\""
   ]
  },
  {
   "cell_type": "code",
   "execution_count": 15,
   "metadata": {},
   "outputs": [
    {
     "ename": "NotFoundError",
     "evalue": "Error code: 404 - {'error': {'message': \"No assistant found with id 'asst_Ii10AeQ9FGu5Rwfexd4PWb0l'.\", 'type': 'invalid_request_error', 'param': None, 'code': None}}",
     "output_type": "error",
     "traceback": [
      "\u001b[1;31m---------------------------------------------------------------------------\u001b[0m",
      "\u001b[1;31mNotFoundError\u001b[0m                             Traceback (most recent call last)",
      "Cell \u001b[1;32mIn[15], line 18\u001b[0m\n\u001b[0;32m     15\u001b[0m     coordinates \u001b[38;5;241m=\u001b[39m message_json[\u001b[38;5;124m'\u001b[39m\u001b[38;5;124mcoordinates\u001b[39m\u001b[38;5;124m'\u001b[39m]\n\u001b[0;32m     16\u001b[0m     \u001b[38;5;28;01mreturn\u001b[39;00m get_weather_forecast(coordinates[\u001b[38;5;124m'\u001b[39m\u001b[38;5;124mlatitude\u001b[39m\u001b[38;5;124m'\u001b[39m], coordinates[\u001b[38;5;124m'\u001b[39m\u001b[38;5;124mlongitude\u001b[39m\u001b[38;5;124m'\u001b[39m])\n\u001b[1;32m---> 18\u001b[0m weather_assistant(prompt\u001b[38;5;241m=\u001b[39mprompt_weather)\n",
      "Cell \u001b[1;32mIn[15], line 8\u001b[0m, in \u001b[0;36mweather_assistant\u001b[1;34m(prompt)\u001b[0m\n\u001b[0;32m      1\u001b[0m \u001b[38;5;28;01mdef\u001b[39;00m \u001b[38;5;21mweather_assistant\u001b[39m(prompt):\n\u001b[0;32m      2\u001b[0m     message \u001b[38;5;241m=\u001b[39m client\u001b[38;5;241m.\u001b[39mbeta\u001b[38;5;241m.\u001b[39mthreads\u001b[38;5;241m.\u001b[39mmessages\u001b[38;5;241m.\u001b[39mcreate(\n\u001b[0;32m      3\u001b[0m         thread_id\u001b[38;5;241m=\u001b[39mthread\u001b[38;5;241m.\u001b[39mid,\n\u001b[0;32m      4\u001b[0m         role\u001b[38;5;241m=\u001b[39m\u001b[38;5;124m\"\u001b[39m\u001b[38;5;124muser\u001b[39m\u001b[38;5;124m\"\u001b[39m,\n\u001b[0;32m      5\u001b[0m         content\u001b[38;5;241m=\u001b[39mprompt\n\u001b[0;32m      6\u001b[0m         )\n\u001b[1;32m----> 8\u001b[0m     run \u001b[38;5;241m=\u001b[39m client\u001b[38;5;241m.\u001b[39mbeta\u001b[38;5;241m.\u001b[39mthreads\u001b[38;5;241m.\u001b[39mruns\u001b[38;5;241m.\u001b[39mcreate_and_poll(\n\u001b[0;32m      9\u001b[0m         thread_id\u001b[38;5;241m=\u001b[39mthread\u001b[38;5;241m.\u001b[39mid, assistant_id\u001b[38;5;241m=\u001b[39m\u001b[38;5;124m'\u001b[39m\u001b[38;5;124masst_Ii10AeQ9FGu5Rwfexd4PWb0l\u001b[39m\u001b[38;5;124m'\u001b[39m\n\u001b[0;32m     10\u001b[0m     ) \n\u001b[0;32m     12\u001b[0m     messages \u001b[38;5;241m=\u001b[39m \u001b[38;5;28mlist\u001b[39m(client\u001b[38;5;241m.\u001b[39mbeta\u001b[38;5;241m.\u001b[39mthreads\u001b[38;5;241m.\u001b[39mmessages\u001b[38;5;241m.\u001b[39mlist(thread_id\u001b[38;5;241m=\u001b[39mthread\u001b[38;5;241m.\u001b[39mid, run_id\u001b[38;5;241m=\u001b[39mrun\u001b[38;5;241m.\u001b[39mid))\n\u001b[0;32m     13\u001b[0m     message_json \u001b[38;5;241m=\u001b[39m json\u001b[38;5;241m.\u001b[39mloads(message_content\u001b[38;5;241m.\u001b[39mvalue)\n",
      "File \u001b[1;32mc:\\Users\\crvid\\anaconda3\\Lib\\site-packages\\openai\\resources\\beta\\threads\\runs\\runs.py:788\u001b[0m, in \u001b[0;36mRuns.create_and_poll\u001b[1;34m(self, assistant_id, include, additional_instructions, additional_messages, instructions, max_completion_tokens, max_prompt_tokens, metadata, model, parallel_tool_calls, response_format, temperature, tool_choice, tools, top_p, truncation_strategy, poll_interval_ms, thread_id, extra_headers, extra_query, extra_body, timeout)\u001b[0m\n\u001b[0;32m    755\u001b[0m \u001b[38;5;28;01mdef\u001b[39;00m \u001b[38;5;21mcreate_and_poll\u001b[39m(\n\u001b[0;32m    756\u001b[0m     \u001b[38;5;28mself\u001b[39m,\n\u001b[0;32m    757\u001b[0m     \u001b[38;5;241m*\u001b[39m,\n\u001b[1;32m   (...)\u001b[0m\n\u001b[0;32m    781\u001b[0m     timeout: \u001b[38;5;28mfloat\u001b[39m \u001b[38;5;241m|\u001b[39m httpx\u001b[38;5;241m.\u001b[39mTimeout \u001b[38;5;241m|\u001b[39m \u001b[38;5;28;01mNone\u001b[39;00m \u001b[38;5;241m|\u001b[39m NotGiven \u001b[38;5;241m=\u001b[39m NOT_GIVEN,\n\u001b[0;32m    782\u001b[0m ) \u001b[38;5;241m-\u001b[39m\u001b[38;5;241m>\u001b[39m Run:\n\u001b[0;32m    783\u001b[0m \u001b[38;5;250m    \u001b[39m\u001b[38;5;124;03m\"\"\"\u001b[39;00m\n\u001b[0;32m    784\u001b[0m \u001b[38;5;124;03m    A helper to create a run an poll for a terminal state. More information on Run\u001b[39;00m\n\u001b[0;32m    785\u001b[0m \u001b[38;5;124;03m    lifecycles can be found here:\u001b[39;00m\n\u001b[0;32m    786\u001b[0m \u001b[38;5;124;03m    https://platform.openai.com/docs/assistants/how-it-works/runs-and-run-steps\u001b[39;00m\n\u001b[0;32m    787\u001b[0m \u001b[38;5;124;03m    \"\"\"\u001b[39;00m\n\u001b[1;32m--> 788\u001b[0m     run \u001b[38;5;241m=\u001b[39m \u001b[38;5;28mself\u001b[39m\u001b[38;5;241m.\u001b[39mcreate(\n\u001b[0;32m    789\u001b[0m         thread_id\u001b[38;5;241m=\u001b[39mthread_id,\n\u001b[0;32m    790\u001b[0m         assistant_id\u001b[38;5;241m=\u001b[39massistant_id,\n\u001b[0;32m    791\u001b[0m         include\u001b[38;5;241m=\u001b[39minclude,\n\u001b[0;32m    792\u001b[0m         additional_instructions\u001b[38;5;241m=\u001b[39madditional_instructions,\n\u001b[0;32m    793\u001b[0m         additional_messages\u001b[38;5;241m=\u001b[39madditional_messages,\n\u001b[0;32m    794\u001b[0m         instructions\u001b[38;5;241m=\u001b[39minstructions,\n\u001b[0;32m    795\u001b[0m         max_completion_tokens\u001b[38;5;241m=\u001b[39mmax_completion_tokens,\n\u001b[0;32m    796\u001b[0m         max_prompt_tokens\u001b[38;5;241m=\u001b[39mmax_prompt_tokens,\n\u001b[0;32m    797\u001b[0m         metadata\u001b[38;5;241m=\u001b[39mmetadata,\n\u001b[0;32m    798\u001b[0m         model\u001b[38;5;241m=\u001b[39mmodel,\n\u001b[0;32m    799\u001b[0m         response_format\u001b[38;5;241m=\u001b[39mresponse_format,\n\u001b[0;32m    800\u001b[0m         temperature\u001b[38;5;241m=\u001b[39mtemperature,\n\u001b[0;32m    801\u001b[0m         tool_choice\u001b[38;5;241m=\u001b[39mtool_choice,\n\u001b[0;32m    802\u001b[0m         parallel_tool_calls\u001b[38;5;241m=\u001b[39mparallel_tool_calls,\n\u001b[0;32m    803\u001b[0m         \u001b[38;5;66;03m# We assume we are not streaming when polling\u001b[39;00m\n\u001b[0;32m    804\u001b[0m         stream\u001b[38;5;241m=\u001b[39m\u001b[38;5;28;01mFalse\u001b[39;00m,\n\u001b[0;32m    805\u001b[0m         tools\u001b[38;5;241m=\u001b[39mtools,\n\u001b[0;32m    806\u001b[0m         truncation_strategy\u001b[38;5;241m=\u001b[39mtruncation_strategy,\n\u001b[0;32m    807\u001b[0m         top_p\u001b[38;5;241m=\u001b[39mtop_p,\n\u001b[0;32m    808\u001b[0m         extra_headers\u001b[38;5;241m=\u001b[39mextra_headers,\n\u001b[0;32m    809\u001b[0m         extra_query\u001b[38;5;241m=\u001b[39mextra_query,\n\u001b[0;32m    810\u001b[0m         extra_body\u001b[38;5;241m=\u001b[39mextra_body,\n\u001b[0;32m    811\u001b[0m         timeout\u001b[38;5;241m=\u001b[39mtimeout,\n\u001b[0;32m    812\u001b[0m     )\n\u001b[0;32m    813\u001b[0m     \u001b[38;5;28;01mreturn\u001b[39;00m \u001b[38;5;28mself\u001b[39m\u001b[38;5;241m.\u001b[39mpoll(\n\u001b[0;32m    814\u001b[0m         run\u001b[38;5;241m.\u001b[39mid,\n\u001b[0;32m    815\u001b[0m         thread_id\u001b[38;5;241m=\u001b[39mthread_id,\n\u001b[1;32m   (...)\u001b[0m\n\u001b[0;32m    820\u001b[0m         timeout\u001b[38;5;241m=\u001b[39mtimeout,\n\u001b[0;32m    821\u001b[0m     )\n",
      "File \u001b[1;32mc:\\Users\\crvid\\anaconda3\\Lib\\site-packages\\openai\\_utils\\_utils.py:274\u001b[0m, in \u001b[0;36mrequired_args.<locals>.inner.<locals>.wrapper\u001b[1;34m(*args, **kwargs)\u001b[0m\n\u001b[0;32m    272\u001b[0m             msg \u001b[38;5;241m=\u001b[39m \u001b[38;5;124mf\u001b[39m\u001b[38;5;124m\"\u001b[39m\u001b[38;5;124mMissing required argument: \u001b[39m\u001b[38;5;132;01m{\u001b[39;00mquote(missing[\u001b[38;5;241m0\u001b[39m])\u001b[38;5;132;01m}\u001b[39;00m\u001b[38;5;124m\"\u001b[39m\n\u001b[0;32m    273\u001b[0m     \u001b[38;5;28;01mraise\u001b[39;00m \u001b[38;5;167;01mTypeError\u001b[39;00m(msg)\n\u001b[1;32m--> 274\u001b[0m \u001b[38;5;28;01mreturn\u001b[39;00m func(\u001b[38;5;241m*\u001b[39margs, \u001b[38;5;241m*\u001b[39m\u001b[38;5;241m*\u001b[39mkwargs)\n",
      "File \u001b[1;32mc:\\Users\\crvid\\anaconda3\\Lib\\site-packages\\openai\\resources\\beta\\threads\\runs\\runs.py:535\u001b[0m, in \u001b[0;36mRuns.create\u001b[1;34m(self, thread_id, assistant_id, include, additional_instructions, additional_messages, instructions, max_completion_tokens, max_prompt_tokens, metadata, model, parallel_tool_calls, response_format, stream, temperature, tool_choice, tools, top_p, truncation_strategy, extra_headers, extra_query, extra_body, timeout)\u001b[0m\n\u001b[0;32m    533\u001b[0m     \u001b[38;5;28;01mraise\u001b[39;00m \u001b[38;5;167;01mValueError\u001b[39;00m(\u001b[38;5;124mf\u001b[39m\u001b[38;5;124m\"\u001b[39m\u001b[38;5;124mExpected a non-empty value for `thread_id` but received \u001b[39m\u001b[38;5;132;01m{\u001b[39;00mthread_id\u001b[38;5;132;01m!r}\u001b[39;00m\u001b[38;5;124m\"\u001b[39m)\n\u001b[0;32m    534\u001b[0m extra_headers \u001b[38;5;241m=\u001b[39m {\u001b[38;5;124m\"\u001b[39m\u001b[38;5;124mOpenAI-Beta\u001b[39m\u001b[38;5;124m\"\u001b[39m: \u001b[38;5;124m\"\u001b[39m\u001b[38;5;124massistants=v2\u001b[39m\u001b[38;5;124m\"\u001b[39m, \u001b[38;5;241m*\u001b[39m\u001b[38;5;241m*\u001b[39m(extra_headers \u001b[38;5;129;01mor\u001b[39;00m {})}\n\u001b[1;32m--> 535\u001b[0m \u001b[38;5;28;01mreturn\u001b[39;00m \u001b[38;5;28mself\u001b[39m\u001b[38;5;241m.\u001b[39m_post(\n\u001b[0;32m    536\u001b[0m     \u001b[38;5;124mf\u001b[39m\u001b[38;5;124m\"\u001b[39m\u001b[38;5;124m/threads/\u001b[39m\u001b[38;5;132;01m{\u001b[39;00mthread_id\u001b[38;5;132;01m}\u001b[39;00m\u001b[38;5;124m/runs\u001b[39m\u001b[38;5;124m\"\u001b[39m,\n\u001b[0;32m    537\u001b[0m     body\u001b[38;5;241m=\u001b[39mmaybe_transform(\n\u001b[0;32m    538\u001b[0m         {\n\u001b[0;32m    539\u001b[0m             \u001b[38;5;124m\"\u001b[39m\u001b[38;5;124massistant_id\u001b[39m\u001b[38;5;124m\"\u001b[39m: assistant_id,\n\u001b[0;32m    540\u001b[0m             \u001b[38;5;124m\"\u001b[39m\u001b[38;5;124madditional_instructions\u001b[39m\u001b[38;5;124m\"\u001b[39m: additional_instructions,\n\u001b[0;32m    541\u001b[0m             \u001b[38;5;124m\"\u001b[39m\u001b[38;5;124madditional_messages\u001b[39m\u001b[38;5;124m\"\u001b[39m: additional_messages,\n\u001b[0;32m    542\u001b[0m             \u001b[38;5;124m\"\u001b[39m\u001b[38;5;124minstructions\u001b[39m\u001b[38;5;124m\"\u001b[39m: instructions,\n\u001b[0;32m    543\u001b[0m             \u001b[38;5;124m\"\u001b[39m\u001b[38;5;124mmax_completion_tokens\u001b[39m\u001b[38;5;124m\"\u001b[39m: max_completion_tokens,\n\u001b[0;32m    544\u001b[0m             \u001b[38;5;124m\"\u001b[39m\u001b[38;5;124mmax_prompt_tokens\u001b[39m\u001b[38;5;124m\"\u001b[39m: max_prompt_tokens,\n\u001b[0;32m    545\u001b[0m             \u001b[38;5;124m\"\u001b[39m\u001b[38;5;124mmetadata\u001b[39m\u001b[38;5;124m\"\u001b[39m: metadata,\n\u001b[0;32m    546\u001b[0m             \u001b[38;5;124m\"\u001b[39m\u001b[38;5;124mmodel\u001b[39m\u001b[38;5;124m\"\u001b[39m: model,\n\u001b[0;32m    547\u001b[0m             \u001b[38;5;124m\"\u001b[39m\u001b[38;5;124mparallel_tool_calls\u001b[39m\u001b[38;5;124m\"\u001b[39m: parallel_tool_calls,\n\u001b[0;32m    548\u001b[0m             \u001b[38;5;124m\"\u001b[39m\u001b[38;5;124mresponse_format\u001b[39m\u001b[38;5;124m\"\u001b[39m: response_format,\n\u001b[0;32m    549\u001b[0m             \u001b[38;5;124m\"\u001b[39m\u001b[38;5;124mstream\u001b[39m\u001b[38;5;124m\"\u001b[39m: stream,\n\u001b[0;32m    550\u001b[0m             \u001b[38;5;124m\"\u001b[39m\u001b[38;5;124mtemperature\u001b[39m\u001b[38;5;124m\"\u001b[39m: temperature,\n\u001b[0;32m    551\u001b[0m             \u001b[38;5;124m\"\u001b[39m\u001b[38;5;124mtool_choice\u001b[39m\u001b[38;5;124m\"\u001b[39m: tool_choice,\n\u001b[0;32m    552\u001b[0m             \u001b[38;5;124m\"\u001b[39m\u001b[38;5;124mtools\u001b[39m\u001b[38;5;124m\"\u001b[39m: tools,\n\u001b[0;32m    553\u001b[0m             \u001b[38;5;124m\"\u001b[39m\u001b[38;5;124mtop_p\u001b[39m\u001b[38;5;124m\"\u001b[39m: top_p,\n\u001b[0;32m    554\u001b[0m             \u001b[38;5;124m\"\u001b[39m\u001b[38;5;124mtruncation_strategy\u001b[39m\u001b[38;5;124m\"\u001b[39m: truncation_strategy,\n\u001b[0;32m    555\u001b[0m         },\n\u001b[0;32m    556\u001b[0m         run_create_params\u001b[38;5;241m.\u001b[39mRunCreateParams,\n\u001b[0;32m    557\u001b[0m     ),\n\u001b[0;32m    558\u001b[0m     options\u001b[38;5;241m=\u001b[39mmake_request_options(\n\u001b[0;32m    559\u001b[0m         extra_headers\u001b[38;5;241m=\u001b[39mextra_headers,\n\u001b[0;32m    560\u001b[0m         extra_query\u001b[38;5;241m=\u001b[39mextra_query,\n\u001b[0;32m    561\u001b[0m         extra_body\u001b[38;5;241m=\u001b[39mextra_body,\n\u001b[0;32m    562\u001b[0m         timeout\u001b[38;5;241m=\u001b[39mtimeout,\n\u001b[0;32m    563\u001b[0m         query\u001b[38;5;241m=\u001b[39mmaybe_transform({\u001b[38;5;124m\"\u001b[39m\u001b[38;5;124minclude\u001b[39m\u001b[38;5;124m\"\u001b[39m: include}, run_create_params\u001b[38;5;241m.\u001b[39mRunCreateParams),\n\u001b[0;32m    564\u001b[0m     ),\n\u001b[0;32m    565\u001b[0m     cast_to\u001b[38;5;241m=\u001b[39mRun,\n\u001b[0;32m    566\u001b[0m     stream\u001b[38;5;241m=\u001b[39mstream \u001b[38;5;129;01mor\u001b[39;00m \u001b[38;5;28;01mFalse\u001b[39;00m,\n\u001b[0;32m    567\u001b[0m     stream_cls\u001b[38;5;241m=\u001b[39mStream[AssistantStreamEvent],\n\u001b[0;32m    568\u001b[0m )\n",
      "File \u001b[1;32mc:\\Users\\crvid\\anaconda3\\Lib\\site-packages\\openai\\_base_client.py:1277\u001b[0m, in \u001b[0;36mSyncAPIClient.post\u001b[1;34m(self, path, cast_to, body, options, files, stream, stream_cls)\u001b[0m\n\u001b[0;32m   1263\u001b[0m \u001b[38;5;28;01mdef\u001b[39;00m \u001b[38;5;21mpost\u001b[39m(\n\u001b[0;32m   1264\u001b[0m     \u001b[38;5;28mself\u001b[39m,\n\u001b[0;32m   1265\u001b[0m     path: \u001b[38;5;28mstr\u001b[39m,\n\u001b[1;32m   (...)\u001b[0m\n\u001b[0;32m   1272\u001b[0m     stream_cls: \u001b[38;5;28mtype\u001b[39m[_StreamT] \u001b[38;5;241m|\u001b[39m \u001b[38;5;28;01mNone\u001b[39;00m \u001b[38;5;241m=\u001b[39m \u001b[38;5;28;01mNone\u001b[39;00m,\n\u001b[0;32m   1273\u001b[0m ) \u001b[38;5;241m-\u001b[39m\u001b[38;5;241m>\u001b[39m ResponseT \u001b[38;5;241m|\u001b[39m _StreamT:\n\u001b[0;32m   1274\u001b[0m     opts \u001b[38;5;241m=\u001b[39m FinalRequestOptions\u001b[38;5;241m.\u001b[39mconstruct(\n\u001b[0;32m   1275\u001b[0m         method\u001b[38;5;241m=\u001b[39m\u001b[38;5;124m\"\u001b[39m\u001b[38;5;124mpost\u001b[39m\u001b[38;5;124m\"\u001b[39m, url\u001b[38;5;241m=\u001b[39mpath, json_data\u001b[38;5;241m=\u001b[39mbody, files\u001b[38;5;241m=\u001b[39mto_httpx_files(files), \u001b[38;5;241m*\u001b[39m\u001b[38;5;241m*\u001b[39moptions\n\u001b[0;32m   1276\u001b[0m     )\n\u001b[1;32m-> 1277\u001b[0m     \u001b[38;5;28;01mreturn\u001b[39;00m cast(ResponseT, \u001b[38;5;28mself\u001b[39m\u001b[38;5;241m.\u001b[39mrequest(cast_to, opts, stream\u001b[38;5;241m=\u001b[39mstream, stream_cls\u001b[38;5;241m=\u001b[39mstream_cls))\n",
      "File \u001b[1;32mc:\\Users\\crvid\\anaconda3\\Lib\\site-packages\\openai\\_base_client.py:954\u001b[0m, in \u001b[0;36mSyncAPIClient.request\u001b[1;34m(self, cast_to, options, remaining_retries, stream, stream_cls)\u001b[0m\n\u001b[0;32m    951\u001b[0m \u001b[38;5;28;01melse\u001b[39;00m:\n\u001b[0;32m    952\u001b[0m     retries_taken \u001b[38;5;241m=\u001b[39m \u001b[38;5;241m0\u001b[39m\n\u001b[1;32m--> 954\u001b[0m \u001b[38;5;28;01mreturn\u001b[39;00m \u001b[38;5;28mself\u001b[39m\u001b[38;5;241m.\u001b[39m_request(\n\u001b[0;32m    955\u001b[0m     cast_to\u001b[38;5;241m=\u001b[39mcast_to,\n\u001b[0;32m    956\u001b[0m     options\u001b[38;5;241m=\u001b[39moptions,\n\u001b[0;32m    957\u001b[0m     stream\u001b[38;5;241m=\u001b[39mstream,\n\u001b[0;32m    958\u001b[0m     stream_cls\u001b[38;5;241m=\u001b[39mstream_cls,\n\u001b[0;32m    959\u001b[0m     retries_taken\u001b[38;5;241m=\u001b[39mretries_taken,\n\u001b[0;32m    960\u001b[0m )\n",
      "File \u001b[1;32mc:\\Users\\crvid\\anaconda3\\Lib\\site-packages\\openai\\_base_client.py:1058\u001b[0m, in \u001b[0;36mSyncAPIClient._request\u001b[1;34m(self, cast_to, options, retries_taken, stream, stream_cls)\u001b[0m\n\u001b[0;32m   1055\u001b[0m         err\u001b[38;5;241m.\u001b[39mresponse\u001b[38;5;241m.\u001b[39mread()\n\u001b[0;32m   1057\u001b[0m     log\u001b[38;5;241m.\u001b[39mdebug(\u001b[38;5;124m\"\u001b[39m\u001b[38;5;124mRe-raising status error\u001b[39m\u001b[38;5;124m\"\u001b[39m)\n\u001b[1;32m-> 1058\u001b[0m     \u001b[38;5;28;01mraise\u001b[39;00m \u001b[38;5;28mself\u001b[39m\u001b[38;5;241m.\u001b[39m_make_status_error_from_response(err\u001b[38;5;241m.\u001b[39mresponse) \u001b[38;5;28;01mfrom\u001b[39;00m \u001b[38;5;28;01mNone\u001b[39;00m\n\u001b[0;32m   1060\u001b[0m \u001b[38;5;28;01mreturn\u001b[39;00m \u001b[38;5;28mself\u001b[39m\u001b[38;5;241m.\u001b[39m_process_response(\n\u001b[0;32m   1061\u001b[0m     cast_to\u001b[38;5;241m=\u001b[39mcast_to,\n\u001b[0;32m   1062\u001b[0m     options\u001b[38;5;241m=\u001b[39moptions,\n\u001b[1;32m   (...)\u001b[0m\n\u001b[0;32m   1066\u001b[0m     retries_taken\u001b[38;5;241m=\u001b[39mretries_taken,\n\u001b[0;32m   1067\u001b[0m )\n",
      "\u001b[1;31mNotFoundError\u001b[0m: Error code: 404 - {'error': {'message': \"No assistant found with id 'asst_Ii10AeQ9FGu5Rwfexd4PWb0l'.\", 'type': 'invalid_request_error', 'param': None, 'code': None}}"
     ]
    }
   ],
   "source": [
    "def weather_assistant(prompt):\n",
    "    message = client.beta.threads.messages.create(\n",
    "        thread_id=thread.id,\n",
    "        role=\"user\",\n",
    "        content=prompt\n",
    "        )\n",
    "\n",
    "    run = client.beta.threads.runs.create_and_poll(\n",
    "        thread_id=thread.id, assistant_id='asst_Ii10AeQ9FGu5Rwfexd4PWb0l'\n",
    "    ) \n",
    "\n",
    "    messages = list(client.beta.threads.messages.list(thread_id=thread.id, run_id=run.id))\n",
    "    message_json = json.loads(message_content.value)\n",
    "\n",
    "    coordinates = message_json['coordinates']\n",
    "    return get_weather_forecast(coordinates['latitude'], coordinates['longitude'])\n",
    "\n",
    "weather_assistant(prompt=prompt_weather)"
   ]
  },
  {
   "cell_type": "markdown",
   "metadata": {},
   "source": [
    "### If you want to, there is a hint here:"
   ]
  },
  {
   "cell_type": "markdown",
   "metadata": {},
   "source": [
    "OpenAI Chatbots / Assistants have a way to respond in json format. \n",
    "\n",
    "Explore the function calling functionality"
   ]
  }
 ],
 "metadata": {
  "kernelspec": {
   "display_name": "base",
   "language": "python",
   "name": "python3"
  },
  "language_info": {
   "codemirror_mode": {
    "name": "ipython",
    "version": 3
   },
   "file_extension": ".py",
   "mimetype": "text/x-python",
   "name": "python",
   "nbconvert_exporter": "python",
   "pygments_lexer": "ipython3",
   "version": "3.12.4"
  }
 },
 "nbformat": 4,
 "nbformat_minor": 2
}
