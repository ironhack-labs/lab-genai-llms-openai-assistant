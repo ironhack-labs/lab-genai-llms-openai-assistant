{
 "cells": [
  {
   "cell_type": "markdown",
   "metadata": {},
   "source": [
    "# LAB GenAI - LLMs - OpenAI Assistant"
   ]
  },
  {
   "cell_type": "markdown",
   "metadata": {},
   "source": [
    "## Exercise 1"
   ]
  },
  {
   "cell_type": "markdown",
   "metadata": {},
   "source": [
    "Create an assistant to answer a topic of your choosing:\n",
    " - Upload a file of your interest\n",
    " - Add Instructions to the prompt\n",
    " - Use the assistant in Playground mode\n",
    "\n",
    " https://platform.openai.com/playground/assistants"
   ]
  },
  {
   "cell_type": "code",
   "execution_count": 1,
   "metadata": {},
   "outputs": [],
   "source": [
    "import openai\n",
    "import pandas as pd\n",
    "\n",
    "#OpenAI API key\n",
    "api_key = ''"
   ]
  },
  {
   "cell_type": "code",
   "execution_count": 2,
   "metadata": {},
   "outputs": [],
   "source": [
    "## Create the assistant\n",
    "from openai import OpenAI\n",
    " \n",
    "client = OpenAI(api_key=api_key)\n",
    " \n",
    "assistant = client.beta.assistants.create(\n",
    "  name=\"Application Assistant\",\n",
    "  instructions=\"You are an expert in writing job applications. If I send you a job description you need to write a cover letter suitable for that role based on my experiences taken from my CV.\",\n",
    "  model=\"gpt-4o\",\n",
    "  tools=[{\"type\": \"file_search\"}],\n",
    ")"
   ]
  },
  {
   "cell_type": "code",
   "execution_count": 6,
   "metadata": {},
   "outputs": [],
   "source": [
    "# Create a vector store caled \"Application Documents\"\n",
    "vector_store = client.beta.vector_stores.create(name=\"Application Documents\")"
   ]
  },
  {
   "cell_type": "code",
   "execution_count": 4,
   "metadata": {},
   "outputs": [],
   "source": [
    " # Ready the files for upload to OpenAI\n",
    "file_paths = [\"\"]\n",
    "file_streams = [open(path, \"rb\") for path in file_paths]"
   ]
  },
  {
   "cell_type": "code",
   "execution_count": 7,
   "metadata": {},
   "outputs": [
    {
     "name": "stdout",
     "output_type": "stream",
     "text": [
      "completed\n",
      "FileCounts(cancelled=0, completed=1, failed=0, in_progress=0, total=1)\n"
     ]
    }
   ],
   "source": [
    "# Use the upload and poll SDK helper to upload the files, add them to the vector store,\n",
    "# and poll the status of the file batch for completion.\n",
    "file_batch = client.beta.vector_stores.file_batches.upload_and_poll(\n",
    "  vector_store_id=vector_store.id, files=file_streams\n",
    ")\n",
    " \n",
    "# You can print the status and the file counts of the batch to see the result of this operation.\n",
    "print(file_batch.status)\n",
    "print(file_batch.file_counts)"
   ]
  },
  {
   "cell_type": "code",
   "execution_count": 8,
   "metadata": {},
   "outputs": [],
   "source": [
    "assistant = client.beta.assistants.update(\n",
    "  assistant_id=assistant.id,\n",
    "  tool_resources={\"file_search\": {\"vector_store_ids\": [vector_store.id]}},\n",
    ")"
   ]
  },
  {
   "cell_type": "markdown",
   "metadata": {},
   "source": [
    "## Exercise 2"
   ]
  },
  {
   "cell_type": "markdown",
   "metadata": {},
   "source": [
    "Talk to your assistant via the API\n",
    "\n",
    "https://platform.openai.com/docs/assistants/overview"
   ]
  },
  {
   "cell_type": "code",
   "execution_count": 9,
   "metadata": {},
   "outputs": [
    {
     "name": "stdout",
     "output_type": "stream",
     "text": [
      "Certainly! Here's a rewritten version of your cover letter, tailored for the AI Engineer position at SLAY:\n",
      "\n",
      "---\n",
      "\n",
      "Dear SLAY Recruiting Team,\n",
      "\n",
      "I am thrilled to apply for the AI Engineer position at SLAY. The rapid growth and success of SLAY in redefining social gaming underscore the innovative spirit I am eager to contribute to. My experiences and skills in the fields of augmented reality, machine learning, and game design align seamlessly with SLAY's ambition to revolutionize mobile gaming.\n",
      "\n",
      "With a B.Sc. in AR/VR/XR Development and Design, I’ve equipped myself with foundational skills in computer graphics, 3D modeling with Blender, and development with Unity【4:0†Nuss-Julia_CV_20241029 Kopie.pdf】. This program allowed me to explore the potential of immersive technologies, driving my passion for creating engaging virtual experiences.\n",
      "\n",
      "Further enriching my technical portfolio, I recently completed a Data Science and Machine Learning Bootcamp at Ironhack Tech School. This program honed my expertise in building AI systems with frameworks such as TensorFlow and PyTorch, alongside large-scale data management using SQL. The hands-on training instilled in me the ability to deploy deep learning models on cloud platforms, skills that will be invaluable in designing and implementing AI systems in SLAY's dynamic gaming environment【4:0†Nuss-Julia_CV_20241029 Kopie.pdf】.\n",
      "\n",
      "I have a profound interest in developing AI architectures that foster seamless interactions and dynamic game environments. My programming proficiency in Python and experience with various data visualization tools equip me to integrate AI models expertly with GoDot or any chosen game engines, ensuring real-time efficiency and performance excellence【4:0†Nuss-Julia_CV_20241029 Kopie.pdf】.\n",
      "\n",
      "Joining SLAY represents an opportunity to collaborate with a team that's leading the charge in mobile entertainment innovation. I am eager to apply my skills in AI development, AR/VR integration, and real-time interactive environments to contribute to SLAY's vision of changing the landscape of social gaming.\n",
      "\n",
      "Thank you for considering my application. I look forward to the opportunity to contribute to SLAY’s exciting journey.\n",
      "\n",
      "Yours sincerely,\n",
      "Julia Nuss\n",
      "\n",
      "---\n",
      "\n",
      "This version connects your experiences and skills directly to the requirements and vision of the AI Engineer role at SLAY, emphasizing your preparedness and excitement for the challenges the position offers.\n"
     ]
    }
   ],
   "source": [
    "# Create a thread and attach the file to the message\n",
    "thread = client.beta.threads.create(\n",
    "  messages=[\n",
    "    {\n",
    "      \"role\": \"user\",\n",
    "      \"content\": \"Can you rewrite this 'Dear Recruiting Team,I am excited to apply for the Generative Machine Learning Engineer position at xxx. With a deep passion for augmented and virtual reality, and a newly discovered love for machine learning, I am drawn to the opportunity to merge these two areas to create transformative experiences. xxx's mission to redefine immersive journeys resonates with my ambition to contribute to innovative projects that merge cutting-edge AI and experiential design. Driven by a long-standing interest in immersive technologies, I was among the first to enroll in the AR/VR/XR Development and Design degree program when it was introduced. This decision was fueled by my fascination with the limitless potential of augmented and virtual reality to create new worlds and redefine how we perceive and interact with our surroundings. This passion, combined with my technical skills in 3D modeling, computer graphics, and development with Unity, has shaped my drive to explore and create in this dynamic field. Building on this foundation, I am currently completing a Data Science and Machine Learning Bootcamp, where I have developed a profound interest in leveraging machine learning to enhance and optimize immersive experiences. The bootcamp has equipped me with practical experience in building deep learning models with frameworks like PyTorch, deploying solutions on cloud platforms, and managing large datasets using SQL. My newly discovered enthusiasm for refining and optimizing models has driven my desire to merge my expertise in AR/VR/XR with the potential of machine learning. ZAUBAR offers an inspiring opportunity to contribute to a team that's pioneering immersive digital experiences. I am eager to apply my background in immersive technologies and machine learning to help develop innovative solutions that bring the metaverse to the streets. Thank you for considering my application. Yours sincerely,' to suit that exact position as an AI engineer 'SLAY, founded in December 2022, has swiftly made its mark in the mobile world. In 2023, we developed several apps and games that reached the #1 spot in the App Store across 3 continents. Backed by some of the world's most esteemed investors, including Accel, Scooter Braun, Scott Belsky, and Ilkka Paananen, SLAY is rapidly growing and reaching millions of users. We're looking to bring together the smartest individuals to achieve our mission to redefine the social gaming landscape. Tasks: Design and Implement AI Systems: Develop and implement the AI architecture from the ground up, focusing on creating a seamless and dynamic interaction between Character and the game environment. AI Modeling and Simulation: Build models for perception, intention, and action layers using advanced machine learning techniques. Integration of AI with Game Engine: Ensure smooth integration of AI models with the GoDot game engine, managing real-time data exchange and action execution within the game. Continuous Learning and Optimization: Implement mechanisms for real-time learning and memory updates using feedback from game interactions, improving Character behaviors and decision-making processes over time. Collaboration and Communication: Work closely with game developers, backend developers, and project managers to ensure that AI components align with overall game design and project goals. Performance Monitoring: Monitor and optimize the performance of AI systems, ensuring they meet the requirements for speed and efficiency in a real-time gaming context. Documentation and Reporting: Maintain thorough documentation for all AI systems developed and provide regular updates to the development team and stakeholders. Requirements: Advanced Degree in Computer Science, AI, Machine Learning, or related field. Proven experience in AI development, preferably in the gaming industry or a similar real-time interactive environment. Strong programming skills in Python, TypeScript, or other relevant languages. Experience with AI frameworks and tools such as TensorFlow, PyTorch, OpenAI GPT, etc. Familiarity with vector databases like Pinecone and experience in handling large-scale data. Strong problem-solving skills and ability to work in a fast-paced, dynamic environment. Excellent communication and teamwork skills. Benefits Salary: You'll earn more than in your previous job. Prime Berlin Office: Our Berlin Mitte office boasts state-of-the-art amenities, including Apple Studio Displays and Herman Miller chairs. Full Commute Reimbursement: We cover 100percet of your commuting costs. Gym Membership: Stay fit and healthy on us. Visa Sponsorship & Assistance: We support your visa process and guide you through all the paperwork. Stock Options: Benefit from our competitive stock option program. Bureaucratic Support: Assistance with German social security, tax forms, and other necessary paperwork.?\",\n",
    "    }\n",
    "  ]\n",
    ")\n",
    "\n",
    "run = client.beta.threads.runs.create_and_poll(\n",
    "    thread_id=thread.id, assistant_id=assistant.id\n",
    ")\n",
    "\n",
    "messages = list(client.beta.threads.messages.list(thread_id=thread.id, run_id=run.id))\n",
    "\n",
    "message_content = messages[0].content[0].text\n",
    "print(message_content.value)"
   ]
  },
  {
   "cell_type": "markdown",
   "metadata": {},
   "source": [
    "## Exercise 3"
   ]
  },
  {
   "cell_type": "markdown",
   "metadata": {},
   "source": [
    "Create an assistant that will call a weather API, given the user's answer and return the proper answer.\n",
    "\n",
    "See the documentation of the weather API here: https://open-meteo.com/en/docs"
   ]
  },
  {
   "cell_type": "code",
   "execution_count": 10,
   "metadata": {},
   "outputs": [
    {
     "name": "stdout",
     "output_type": "stream",
     "text": [
      "{'latitude': 52.52, 'longitude': 13.419998, 'generationtime_ms': 0.05996227264404297, 'utc_offset_seconds': 0, 'timezone': 'GMT', 'timezone_abbreviation': 'GMT', 'elevation': 38.0, 'hourly_units': {'time': 'iso8601', 'temperature_2m': '°C'}, 'hourly': {'time': ['2024-10-29T00:00', '2024-10-29T01:00', '2024-10-29T02:00', '2024-10-29T03:00', '2024-10-29T04:00', '2024-10-29T05:00', '2024-10-29T06:00', '2024-10-29T07:00', '2024-10-29T08:00', '2024-10-29T09:00', '2024-10-29T10:00', '2024-10-29T11:00', '2024-10-29T12:00', '2024-10-29T13:00', '2024-10-29T14:00', '2024-10-29T15:00', '2024-10-29T16:00', '2024-10-29T17:00', '2024-10-29T18:00', '2024-10-29T19:00', '2024-10-29T20:00', '2024-10-29T21:00', '2024-10-29T22:00', '2024-10-29T23:00', '2024-10-30T00:00', '2024-10-30T01:00', '2024-10-30T02:00', '2024-10-30T03:00', '2024-10-30T04:00', '2024-10-30T05:00', '2024-10-30T06:00', '2024-10-30T07:00', '2024-10-30T08:00', '2024-10-30T09:00', '2024-10-30T10:00', '2024-10-30T11:00', '2024-10-30T12:00', '2024-10-30T13:00', '2024-10-30T14:00', '2024-10-30T15:00', '2024-10-30T16:00', '2024-10-30T17:00', '2024-10-30T18:00', '2024-10-30T19:00', '2024-10-30T20:00', '2024-10-30T21:00', '2024-10-30T22:00', '2024-10-30T23:00', '2024-10-31T00:00', '2024-10-31T01:00', '2024-10-31T02:00', '2024-10-31T03:00', '2024-10-31T04:00', '2024-10-31T05:00', '2024-10-31T06:00', '2024-10-31T07:00', '2024-10-31T08:00', '2024-10-31T09:00', '2024-10-31T10:00', '2024-10-31T11:00', '2024-10-31T12:00', '2024-10-31T13:00', '2024-10-31T14:00', '2024-10-31T15:00', '2024-10-31T16:00', '2024-10-31T17:00', '2024-10-31T18:00', '2024-10-31T19:00', '2024-10-31T20:00', '2024-10-31T21:00', '2024-10-31T22:00', '2024-10-31T23:00', '2024-11-01T00:00', '2024-11-01T01:00', '2024-11-01T02:00', '2024-11-01T03:00', '2024-11-01T04:00', '2024-11-01T05:00', '2024-11-01T06:00', '2024-11-01T07:00', '2024-11-01T08:00', '2024-11-01T09:00', '2024-11-01T10:00', '2024-11-01T11:00', '2024-11-01T12:00', '2024-11-01T13:00', '2024-11-01T14:00', '2024-11-01T15:00', '2024-11-01T16:00', '2024-11-01T17:00', '2024-11-01T18:00', '2024-11-01T19:00', '2024-11-01T20:00', '2024-11-01T21:00', '2024-11-01T22:00', '2024-11-01T23:00', '2024-11-02T00:00', '2024-11-02T01:00', '2024-11-02T02:00', '2024-11-02T03:00', '2024-11-02T04:00', '2024-11-02T05:00', '2024-11-02T06:00', '2024-11-02T07:00', '2024-11-02T08:00', '2024-11-02T09:00', '2024-11-02T10:00', '2024-11-02T11:00', '2024-11-02T12:00', '2024-11-02T13:00', '2024-11-02T14:00', '2024-11-02T15:00', '2024-11-02T16:00', '2024-11-02T17:00', '2024-11-02T18:00', '2024-11-02T19:00', '2024-11-02T20:00', '2024-11-02T21:00', '2024-11-02T22:00', '2024-11-02T23:00', '2024-11-03T00:00', '2024-11-03T01:00', '2024-11-03T02:00', '2024-11-03T03:00', '2024-11-03T04:00', '2024-11-03T05:00', '2024-11-03T06:00', '2024-11-03T07:00', '2024-11-03T08:00', '2024-11-03T09:00', '2024-11-03T10:00', '2024-11-03T11:00', '2024-11-03T12:00', '2024-11-03T13:00', '2024-11-03T14:00', '2024-11-03T15:00', '2024-11-03T16:00', '2024-11-03T17:00', '2024-11-03T18:00', '2024-11-03T19:00', '2024-11-03T20:00', '2024-11-03T21:00', '2024-11-03T22:00', '2024-11-03T23:00', '2024-11-04T00:00', '2024-11-04T01:00', '2024-11-04T02:00', '2024-11-04T03:00', '2024-11-04T04:00', '2024-11-04T05:00', '2024-11-04T06:00', '2024-11-04T07:00', '2024-11-04T08:00', '2024-11-04T09:00', '2024-11-04T10:00', '2024-11-04T11:00', '2024-11-04T12:00', '2024-11-04T13:00', '2024-11-04T14:00', '2024-11-04T15:00', '2024-11-04T16:00', '2024-11-04T17:00', '2024-11-04T18:00', '2024-11-04T19:00', '2024-11-04T20:00', '2024-11-04T21:00', '2024-11-04T22:00', '2024-11-04T23:00'], 'temperature_2m': [12.9, 12.7, 12.6, 12.4, 12.3, 12.2, 12.0, 12.1, 12.2, 12.5, 12.9, 13.8, 14.4, 15.0, 15.1, 14.6, 14.1, 13.9, 13.7, 13.6, 13.5, 13.2, 13.0, 12.6, 12.4, 12.4, 12.4, 12.4, 12.3, 12.2, 12.3, 12.4, 12.9, 13.4, 13.6, 14.2, 14.8, 14.9, 14.8, 14.3, 13.8, 13.2, 13.0, 12.7, 12.6, 12.2, 11.1, 9.8, 8.9, 8.3, 7.8, 7.3, 6.9, 6.5, 6.2, 6.5, 8.0, 9.6, 11.2, 12.7, 13.8, 13.9, 13.9, 13.4, 12.5, 11.9, 11.7, 11.6, 11.3, 11.0, 11.0, 10.9, 10.8, 10.7, 10.6, 10.5, 10.5, 10.6, 10.6, 10.8, 11.1, 11.6, 11.8, 12.4, 12.4, 12.5, 12.6, 12.6, 12.6, 12.5, 12.5, 12.4, 12.2, 12.1, 12.1, 12.3, 12.0, 11.2, 10.0, 8.9, 7.8, 6.9, 6.3, 6.2, 6.6, 7.0, 7.5, 8.1, 8.5, 8.5, 8.3, 7.9, 7.3, 6.6, 5.9, 5.5, 5.2, 4.9, 4.5, 4.1, 3.7, 3.4, 3.2, 2.9, 2.7, 2.6, 2.5, 2.7, 3.9, 5.1, 6.5, 8.0, 9.1, 9.6, 9.7, 9.6, 9.3, 8.8, 8.4, 8.0, 7.6, 7.4, 7.6, 8.1, 8.5, 8.7, 8.9, 9.0, 9.1, 9.0, 9.2, 9.6, 10.1, 10.6, 11.1, 11.6, 11.9, 12.0, 12.0, 11.9, 11.7, 11.3, 10.9, 10.4, 9.9, 9.4, 8.7, 8.0]}}\n"
     ]
    }
   ],
   "source": [
    "import requests\n",
    "\n",
    "def get_weather_forecast(latitude, longitude):\n",
    "    base_url = \"https://api.open-meteo.com/v1/forecast\"\n",
    "    params = {\n",
    "        \"latitude\": latitude,\n",
    "        \"longitude\": longitude,\n",
    "        \"hourly\": \"temperature_2m\"\n",
    "    }\n",
    "    response = requests.get(base_url, params=params)\n",
    "    return response.json()\n",
    "\n",
    "# Example usage:\n",
    "forecast = get_weather_forecast(52.52, 13.41)\n",
    "print(forecast)"
   ]
  },
  {
   "cell_type": "markdown",
   "metadata": {},
   "source": [
    "### If you want to, there is a hint here:"
   ]
  },
  {
   "cell_type": "markdown",
   "metadata": {},
   "source": [
    "OpenAI Chatbots / Assistants have a way to respond in json format. \n",
    "\n",
    "Explore the function calling functionality"
   ]
  }
 ],
 "metadata": {
  "kernelspec": {
   "display_name": "venv_IH",
   "language": "python",
   "name": "python3"
  },
  "language_info": {
   "codemirror_mode": {
    "name": "ipython",
    "version": 3
   },
   "file_extension": ".py",
   "mimetype": "text/x-python",
   "name": "python",
   "nbconvert_exporter": "python",
   "pygments_lexer": "ipython3",
   "version": "3.11.10"
  }
 },
 "nbformat": 4,
 "nbformat_minor": 2
}
